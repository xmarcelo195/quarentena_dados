{
  "nbformat": 4,
  "nbformat_minor": 0,
  "metadata": {
    "colab": {
      "name": "Desafio ML #quarentenadados",
      "provenance": []
    },
    "kernelspec": {
      "name": "python3",
      "display_name": "Python 3"
    }
  },
  "cells": [
    {
      "cell_type": "code",
      "metadata": {
        "id": "fhszBWSj2oKo",
        "colab": {
          "base_uri": "https://localhost:8080/",
          "height": 73
        },
        "outputId": "36430e32-acc1-49ff-f896-96abc83be816"
      },
      "source": [
        "import matplotlib.pyplot as plt\n",
        "import seaborn as sns\n",
        "import numpy as np\n",
        "from sklearn import linear_model\n",
        "from sklearn.svm import SVR\n",
        "from sklearn.metrics import mean_squared_error, r2_score"
      ],
      "execution_count": null,
      "outputs": [
        {
          "output_type": "stream",
          "text": [
            "/usr/local/lib/python3.6/dist-packages/statsmodels/tools/_testing.py:19: FutureWarning: pandas.util.testing is deprecated. Use the functions in the public API at pandas.testing instead.\n",
            "  import pandas.util.testing as tm\n"
          ],
          "name": "stderr"
        }
      ]
    },
    {
      "cell_type": "code",
      "metadata": {
        "id": "ckEo9nR90DlF"
      },
      "source": [
        "import pandas as pd\n",
        "\n",
        "URI_TREINO = \"https://github.com/tgcsantos/quaretenadados/blob/master/DADOS_TREINO.csv?raw=true\"\n",
        "URI_TESTE = \"https://github.com/tgcsantos/quaretenadados/raw/master/DADOS_TESTE.csv\"\n",
        "URI_DESAFIOQT = \"https://github.com/tgcsantos/quaretenadados/raw/master/DESAFIOQT.csv\"\n",
        "\n",
        "dados_treino = pd.read_csv(URI_TREINO)\n",
        "dados_teste = pd.read_csv(URI_TESTE)\n",
        "dados_desafioqt = pd.read_csv(URI_DESAFIOQT)\n",
        "\n",
        "erro_treino = \"Erro ao carregar dados de treino\"\n",
        "erro_teste = \"Erro ao carregar dados de teste\"\n",
        "erro_desafioqt = \"Erro ao carregar dados de submissão\"\n",
        "\n",
        "assert dados_treino.shape == (150000, 5), erro_treino\n",
        "assert dados_teste.shape == (20000, 5), erro_teste\n",
        "assert dados_desafioqt.shape == (10000, 5), erro_desafioqt"
      ],
      "execution_count": null,
      "outputs": []
    },
    {
      "cell_type": "code",
      "metadata": {
        "id": "Shv1S90i0HsH"
      },
      "source": [
        "coluna_label = 'NU_NOTA_LC'\n",
        "coluna_features = ['NU_NOTA_CN', 'NU_NOTA_CH', 'NU_NOTA_MT', 'NU_NOTA_REDACAO']\n",
        "\n",
        "# X_treino = dados_treino[coluna_features].to_numpy()\n",
        "# Y_treino = dados_treino[coluna_label].to_numpy()\n",
        "# X_teste = dados_teste[coluna_features].to_numpy()\n",
        "# Y_teste = dados_teste[coluna_label].to_numpy()\n"
      ],
      "execution_count": null,
      "outputs": []
    },
    {
      "cell_type": "markdown",
      "metadata": {
        "id": "imeFaZPi-_Qe"
      },
      "source": [
        "#Testes"
      ]
    },
    {
      "cell_type": "code",
      "metadata": {
        "id": "VCcijmdi0MsF"
      },
      "source": [
        "#Minha avaliação nos dados de teste foi de 5219.286870186777"
      ],
      "execution_count": null,
      "outputs": []
    },
    {
      "cell_type": "code",
      "metadata": {
        "id": "XsFGY5Rd0O2W"
      },
      "source": [
        "#atribuir ao MODELO o nome do seu melhor modelo\n",
        "from google.colab import files\n",
        "\n",
        "#MODELO = modelo_dummy\n",
        "#X_desafioqt = dados_desafioqt[coluna_features].to_numpy()\n",
        "#predicao_desafioqt = MODELO.predict(X_desafioqt)\n",
        "\n",
        "\n",
        "#desafio_df = pd.DataFrame(dados_desafioqt.ID)\n",
        "#desafio_df[coluna_label] = predicao_desafioqt\n",
        "\n",
        "#NÃO TROCAR O NOME DO ARQUIVO DE SAÍDA (PREDICAO_DESAFIO)\n",
        "#desafio_df.to_csv('PREDICAO_DESAFIOQT.csv', index=False) \n",
        "#files.download('PREDICAO_DESAFIOQT.csv')\n"
      ],
      "execution_count": null,
      "outputs": []
    },
    {
      "cell_type": "code",
      "metadata": {
        "id": "ITXfHr3N9Fmq"
      },
      "source": [
        "#sns.pairplot(dados_treino)"
      ],
      "execution_count": null,
      "outputs": []
    },
    {
      "cell_type": "code",
      "metadata": {
        "id": "OeW-_jz41uKZ",
        "colab": {
          "base_uri": "https://localhost:8080/",
          "height": 35
        },
        "outputId": "38700a84-82ce-4bc4-9941-d3e8b5cde23a"
      },
      "source": [
        "#descobrir os valores abaixo da linha de suporte em CH\n",
        "dados_treino.query('NU_NOTA_CH < 394.5 and NU_NOTA_CH != 0')[['NU_NOTA_CH','NU_NOTA_LC']].sort_values(by='NU_NOTA_CH',ascending=False).head(20).index"
      ],
      "execution_count": null,
      "outputs": [
        {
          "output_type": "execute_result",
          "data": {
            "text/plain": [
              "Int64Index([17286, 91662, 55983, 91992], dtype='int64')"
            ]
          },
          "metadata": {
            "tags": []
          },
          "execution_count": 164
        }
      ]
    },
    {
      "cell_type": "code",
      "metadata": {
        "id": "VxeBiYvh4LqU",
        "colab": {
          "base_uri": "https://localhost:8080/",
          "height": 35
        },
        "outputId": "5698a108-8b53-42de-9015-3ec336d972f0"
      },
      "source": [
        "#primeiro teste modelo regressao\n",
        "regr = linear_model.LinearRegression()\n",
        "regr.fit(X_treino, Y_treino)\n",
        "\n",
        "#teste\n",
        "y_= regr.predict(X_teste)\n",
        "predicao = mean_squared_error(Y_teste, y_)\n",
        "print(f\"Minha avaliação nos dados de teste foi de {predicao}\")"
      ],
      "execution_count": null,
      "outputs": [
        {
          "output_type": "stream",
          "text": [
            "Minha avaliação nos dados de teste foi de 2177.3839304103562\n"
          ],
          "name": "stdout"
        }
      ]
    },
    {
      "cell_type": "code",
      "metadata": {
        "id": "0l9QxxHd-M-T"
      },
      "source": [
        "#segundo teste modelo regressao sem nota da redacao\n",
        "#coluna_label = 'NU_NOTA_LC'\n",
        "#coluna_features = ['NU_NOTA_CN', 'NU_NOTA_CH', 'NU_NOTA_MT']\n",
        "\n",
        "#X_treino = dados_treino[coluna_features].to_numpy()\n",
        "#Y_treino = dados_treino[coluna_label].to_numpy()\n",
        "#X_teste = dados_teste[coluna_features].to_numpy()\n",
        "#Y_teste = dados_teste[coluna_label].to_numpy()\n",
        "\n",
        "#regr = linear_model.LinearRegression()\n",
        "#regr.fit(X_treino, Y_treino)\n",
        "\n",
        "#teste\n",
        "#y_= regr.predict(X_teste)\n",
        "#predicao = mean_squared_error(Y_teste, y_)\n",
        "#print(f\"Minha avaliação nos dados de teste foi de {predicao}\")"
      ],
      "execution_count": null,
      "outputs": []
    },
    {
      "cell_type": "code",
      "metadata": {
        "id": "BLS8O9l-BOOc",
        "colab": {
          "base_uri": "https://localhost:8080/",
          "height": 55
        },
        "outputId": "ebc2d266-634c-437e-d7d1-0d81bef6a63a"
      },
      "source": [
        "'''#terceiro teste sem zeros no treino.\n",
        "dados_treino[coluna_features] = dados_treino[coluna_features].replace(0, np.nan)\n",
        "dados_treino= dados_treino.dropna()\n",
        "regr = linear_model.LinearRegression()\n",
        "regr.fit(X_treino, Y_treino)\n",
        "\n",
        "#teste\n",
        "y_= regr.predict(X_teste)\n",
        "predicao = mean_squared_error(Y_teste, y_)\n",
        "print(f\"Minha avaliação nos dados de teste foi de {predicao}\")\n",
        "\n",
        "não mudou nada'''"
      ],
      "execution_count": null,
      "outputs": [
        {
          "output_type": "execute_result",
          "data": {
            "text/plain": [
              "'#terceiro teste sem zeros no treino.\\ndados_treino[coluna_features] = dados_treino[coluna_features].replace(0, np.nan)\\ndados_treino= dados_treino.dropna()\\nregr = linear_model.LinearRegression()\\nregr.fit(X_treino, Y_treino)\\n\\n#teste\\ny_= regr.predict(X_teste)\\npredicao = mean_squared_error(Y_teste, y_)\\nprint(f\"Minha avaliação nos dados de teste foi de {predicao}\")\\n\\nnão mudou nada'"
            ]
          },
          "metadata": {
            "tags": []
          },
          "execution_count": 167
        }
      ]
    },
    {
      "cell_type": "code",
      "metadata": {
        "id": "6hZbg4y8EtWv",
        "colab": {
          "base_uri": "https://localhost:8080/",
          "height": 610
        },
        "outputId": "a263ad0f-5e2b-4d19-8481-3b10fdc1f8e3"
      },
      "source": [
        "plt.figure(figsize=(10,10))\n",
        "plt.scatter(x=Y_teste, y=y_)\n",
        "plt.scatter(x=Y_teste, y=Y_teste)"
      ],
      "execution_count": null,
      "outputs": [
        {
          "output_type": "execute_result",
          "data": {
            "text/plain": [
              "<matplotlib.collections.PathCollection at 0x7f7605c7f6a0>"
            ]
          },
          "metadata": {
            "tags": []
          },
          "execution_count": 168
        },
        {
          "output_type": "display_data",
          "data": {
            "image/png": "[encoded data removed]",
            "text/plain": [
              "<Figure size 720x720 with 1 Axes>"
            ]
          },
          "metadata": {
            "tags": [],
            "needs_background": "light"
          }
        }
      ]
    },
    {
      "cell_type": "code",
      "metadata": {
        "id": "_RK2YiIaQF00",
        "colab": {
          "base_uri": "https://localhost:8080/",
          "height": 283
        },
        "outputId": "0a8b1b32-8ca9-4eff-c458-eb6e0b46cd11"
      },
      "source": [
        "plt.scatter(x=dados_teste['NU_NOTA_MT'].to_numpy(), y=Y_teste)"
      ],
      "execution_count": null,
      "outputs": [
        {
          "output_type": "execute_result",
          "data": {
            "text/plain": [
              "<matplotlib.collections.PathCollection at 0x7f76051c7eb8>"
            ]
          },
          "metadata": {
            "tags": []
          },
          "execution_count": 169
        },
        {
          "output_type": "display_data",
          "data": {
            "image/png": "[encoded data removed]",
            "text/plain": [
              "<Figure size 432x288 with 1 Axes>"
            ]
          },
          "metadata": {
            "tags": [],
            "needs_background": "light"
          }
        }
      ]
    },
    {
      "cell_type": "code",
      "metadata": {
        "id": "mDtEsWQVHBNr",
        "colab": {
          "base_uri": "https://localhost:8080/",
          "height": 53
        },
        "outputId": "43669657-d960-428d-9c3c-b0a5cd763457"
      },
      "source": [
        "#tentando entender as notas 0 em LC\n",
        "lc_zero = dados_treino.query('NU_NOTA_LC == 0')\n",
        "lc_zero.columns = ['CN', 'CH', 'LC', 'MT', 'RED']\n",
        "lc_zero = lc_zero[['LC','CN', 'CH', 'MT', 'RED']]\n",
        "#print(lc_zero)\n",
        "print()\n",
        "print('total de zeros em LC',len(lc_zero),', zeros em LC e CH', len(lc_zero.query('CH == 0')))"
      ],
      "execution_count": null,
      "outputs": [
        {
          "output_type": "stream",
          "text": [
            "\n",
            "total de zeros em LC 59 , zeros em LC e CH 57\n"
          ],
          "name": "stdout"
        }
      ]
    },
    {
      "cell_type": "code",
      "metadata": {
        "id": "mdCiSoz5IOEr",
        "colab": {
          "base_uri": "https://localhost:8080/",
          "height": 35
        },
        "outputId": "9b8bf164-ce8d-43a9-a924-cae7b51cfcc7"
      },
      "source": [
        "lc_zero_test = dados_teste.query('NU_NOTA_LC ==0')\n",
        "lc_zero_test.columns = ['CN', 'CH', 'LC', 'MT', 'RED']\n",
        "lc_zero_test = lc_zero_test[['LC','CN', 'CH', 'MT', 'RED']]\n",
        "print(len(lc_zero_test), len(lc_zero_test.query('CH == 0')))"
      ],
      "execution_count": null,
      "outputs": [
        {
          "output_type": "stream",
          "text": [
            "7 6\n"
          ],
          "name": "stdout"
        }
      ]
    },
    {
      "cell_type": "code",
      "metadata": {
        "id": "d8Accsx2KfrL",
        "colab": {
          "base_uri": "https://localhost:8080/",
          "height": 53
        },
        "outputId": "6286289e-ba1e-423e-bc67-cae027dc2d85"
      },
      "source": [
        "y_"
      ],
      "execution_count": null,
      "outputs": [
        {
          "output_type": "execute_result",
          "data": {
            "text/plain": [
              "array([536.78452136, 454.51854927, 652.30640267, ..., 528.04663791,\n",
              "       552.39020775, 485.04872288])"
            ]
          },
          "metadata": {
            "tags": []
          },
          "execution_count": 172
        }
      ]
    },
    {
      "cell_type": "code",
      "metadata": {
        "id": "PfHEIFcfL5KA",
        "colab": {
          "base_uri": "https://localhost:8080/",
          "height": 645
        },
        "outputId": "27abbf67-5327-422a-9bb6-556f133e9c89"
      },
      "source": [
        "dados_predicao = pd.concat([dados_teste['NU_NOTA_CH'], pd.DataFrame(y_)], axis=1)\n",
        "dados_predicao.query('NU_NOTA_CH==0')"
      ],
      "execution_count": null,
      "outputs": [
        {
          "output_type": "execute_result",
          "data": {
            "text/html": [
              "<div>\n",
              "<style scoped>\n",
              "    .dataframe tbody tr th:only-of-type {\n",
              "        vertical-align: middle;\n",
              "    }\n",
              "\n",
              "    .dataframe tbody tr th {\n",
              "        vertical-align: top;\n",
              "    }\n",
              "\n",
              "    .dataframe thead th {\n",
              "        text-align: right;\n",
              "    }\n",
              "</style>\n",
              "<table border=\"1\" class=\"dataframe\">\n",
              "  <thead>\n",
              "    <tr style=\"text-align: right;\">\n",
              "      <th></th>\n",
              "      <th>NU_NOTA_CH</th>\n",
              "      <th>0</th>\n",
              "    </tr>\n",
              "  </thead>\n",
              "  <tbody>\n",
              "    <tr>\n",
              "      <th>53</th>\n",
              "      <td>0.0</td>\n",
              "      <td>310.829421</td>\n",
              "    </tr>\n",
              "    <tr>\n",
              "      <th>1049</th>\n",
              "      <td>0.0</td>\n",
              "      <td>288.432609</td>\n",
              "    </tr>\n",
              "    <tr>\n",
              "      <th>4607</th>\n",
              "      <td>0.0</td>\n",
              "      <td>282.162629</td>\n",
              "    </tr>\n",
              "    <tr>\n",
              "      <th>5540</th>\n",
              "      <td>0.0</td>\n",
              "      <td>312.732466</td>\n",
              "    </tr>\n",
              "    <tr>\n",
              "      <th>6921</th>\n",
              "      <td>0.0</td>\n",
              "      <td>275.528354</td>\n",
              "    </tr>\n",
              "    <tr>\n",
              "      <th>8582</th>\n",
              "      <td>0.0</td>\n",
              "      <td>305.597936</td>\n",
              "    </tr>\n",
              "    <tr>\n",
              "      <th>8659</th>\n",
              "      <td>0.0</td>\n",
              "      <td>296.565417</td>\n",
              "    </tr>\n",
              "    <tr>\n",
              "      <th>10177</th>\n",
              "      <td>0.0</td>\n",
              "      <td>284.368732</td>\n",
              "    </tr>\n",
              "    <tr>\n",
              "      <th>10759</th>\n",
              "      <td>0.0</td>\n",
              "      <td>273.334053</td>\n",
              "    </tr>\n",
              "    <tr>\n",
              "      <th>10783</th>\n",
              "      <td>0.0</td>\n",
              "      <td>277.985693</td>\n",
              "    </tr>\n",
              "    <tr>\n",
              "      <th>11088</th>\n",
              "      <td>0.0</td>\n",
              "      <td>269.323837</td>\n",
              "    </tr>\n",
              "    <tr>\n",
              "      <th>11628</th>\n",
              "      <td>0.0</td>\n",
              "      <td>332.689777</td>\n",
              "    </tr>\n",
              "    <tr>\n",
              "      <th>13301</th>\n",
              "      <td>0.0</td>\n",
              "      <td>244.143689</td>\n",
              "    </tr>\n",
              "    <tr>\n",
              "      <th>14929</th>\n",
              "      <td>0.0</td>\n",
              "      <td>256.242997</td>\n",
              "    </tr>\n",
              "    <tr>\n",
              "      <th>15378</th>\n",
              "      <td>0.0</td>\n",
              "      <td>236.881897</td>\n",
              "    </tr>\n",
              "    <tr>\n",
              "      <th>17500</th>\n",
              "      <td>0.0</td>\n",
              "      <td>307.176960</td>\n",
              "    </tr>\n",
              "    <tr>\n",
              "      <th>18699</th>\n",
              "      <td>0.0</td>\n",
              "      <td>303.565221</td>\n",
              "    </tr>\n",
              "    <tr>\n",
              "      <th>19143</th>\n",
              "      <td>0.0</td>\n",
              "      <td>307.184716</td>\n",
              "    </tr>\n",
              "    <tr>\n",
              "      <th>19902</th>\n",
              "      <td>0.0</td>\n",
              "      <td>288.701197</td>\n",
              "    </tr>\n",
              "  </tbody>\n",
              "</table>\n",
              "</div>"
            ],
            "text/plain": [
              "       NU_NOTA_CH           0\n",
              "53            0.0  310.829421\n",
              "1049          0.0  288.432609\n",
              "4607          0.0  282.162629\n",
              "5540          0.0  312.732466\n",
              "6921          0.0  275.528354\n",
              "8582          0.0  305.597936\n",
              "8659          0.0  296.565417\n",
              "10177         0.0  284.368732\n",
              "10759         0.0  273.334053\n",
              "10783         0.0  277.985693\n",
              "11088         0.0  269.323837\n",
              "11628         0.0  332.689777\n",
              "13301         0.0  244.143689\n",
              "14929         0.0  256.242997\n",
              "15378         0.0  236.881897\n",
              "17500         0.0  307.176960\n",
              "18699         0.0  303.565221\n",
              "19143         0.0  307.184716\n",
              "19902         0.0  288.701197"
            ]
          },
          "metadata": {
            "tags": []
          },
          "execution_count": 173
        }
      ]
    },
    {
      "cell_type": "code",
      "metadata": {
        "id": "q-cEEL4oMGyO",
        "colab": {
          "base_uri": "https://localhost:8080/",
          "height": 645
        },
        "outputId": "dc5054d2-606f-47ed-b6e0-40b03f455b08"
      },
      "source": [
        "dados_teste.query('NU_NOTA_CH==0')\n",
        "#quem zera LC geralmente zera CH, mas quem zera CH geralmente não zera LC"
      ],
      "execution_count": null,
      "outputs": [
        {
          "output_type": "execute_result",
          "data": {
            "text/html": [
              "<div>\n",
              "<style scoped>\n",
              "    .dataframe tbody tr th:only-of-type {\n",
              "        vertical-align: middle;\n",
              "    }\n",
              "\n",
              "    .dataframe tbody tr th {\n",
              "        vertical-align: top;\n",
              "    }\n",
              "\n",
              "    .dataframe thead th {\n",
              "        text-align: right;\n",
              "    }\n",
              "</style>\n",
              "<table border=\"1\" class=\"dataframe\">\n",
              "  <thead>\n",
              "    <tr style=\"text-align: right;\">\n",
              "      <th></th>\n",
              "      <th>NU_NOTA_CN</th>\n",
              "      <th>NU_NOTA_CH</th>\n",
              "      <th>NU_NOTA_LC</th>\n",
              "      <th>NU_NOTA_MT</th>\n",
              "      <th>NU_NOTA_REDACAO</th>\n",
              "    </tr>\n",
              "  </thead>\n",
              "  <tbody>\n",
              "    <tr>\n",
              "      <th>53</th>\n",
              "      <td>495.5</td>\n",
              "      <td>0.0</td>\n",
              "      <td>0.0</td>\n",
              "      <td>687.1</td>\n",
              "      <td>400.0</td>\n",
              "    </tr>\n",
              "    <tr>\n",
              "      <th>1049</th>\n",
              "      <td>415.5</td>\n",
              "      <td>0.0</td>\n",
              "      <td>351.4</td>\n",
              "      <td>586.1</td>\n",
              "      <td>420.0</td>\n",
              "    </tr>\n",
              "    <tr>\n",
              "      <th>4607</th>\n",
              "      <td>437.2</td>\n",
              "      <td>0.0</td>\n",
              "      <td>401.3</td>\n",
              "      <td>520.3</td>\n",
              "      <td>380.0</td>\n",
              "    </tr>\n",
              "    <tr>\n",
              "      <th>5540</th>\n",
              "      <td>533.2</td>\n",
              "      <td>0.0</td>\n",
              "      <td>587.1</td>\n",
              "      <td>460.9</td>\n",
              "      <td>680.0</td>\n",
              "    </tr>\n",
              "    <tr>\n",
              "      <th>6921</th>\n",
              "      <td>451.8</td>\n",
              "      <td>0.0</td>\n",
              "      <td>385.6</td>\n",
              "      <td>448.7</td>\n",
              "      <td>360.0</td>\n",
              "    </tr>\n",
              "    <tr>\n",
              "      <th>8582</th>\n",
              "      <td>474.9</td>\n",
              "      <td>0.0</td>\n",
              "      <td>586.9</td>\n",
              "      <td>576.5</td>\n",
              "      <td>540.0</td>\n",
              "    </tr>\n",
              "    <tr>\n",
              "      <th>8659</th>\n",
              "      <td>515.9</td>\n",
              "      <td>0.0</td>\n",
              "      <td>360.9</td>\n",
              "      <td>481.6</td>\n",
              "      <td>460.0</td>\n",
              "    </tr>\n",
              "    <tr>\n",
              "      <th>10177</th>\n",
              "      <td>439.6</td>\n",
              "      <td>0.0</td>\n",
              "      <td>462.1</td>\n",
              "      <td>470.9</td>\n",
              "      <td>480.0</td>\n",
              "    </tr>\n",
              "    <tr>\n",
              "      <th>10759</th>\n",
              "      <td>423.1</td>\n",
              "      <td>0.0</td>\n",
              "      <td>0.0</td>\n",
              "      <td>472.2</td>\n",
              "      <td>360.0</td>\n",
              "    </tr>\n",
              "    <tr>\n",
              "      <th>10783</th>\n",
              "      <td>420.0</td>\n",
              "      <td>0.0</td>\n",
              "      <td>505.3</td>\n",
              "      <td>401.1</td>\n",
              "      <td>540.0</td>\n",
              "    </tr>\n",
              "    <tr>\n",
              "      <th>11088</th>\n",
              "      <td>454.4</td>\n",
              "      <td>0.0</td>\n",
              "      <td>0.0</td>\n",
              "      <td>625.6</td>\n",
              "      <td>0.0</td>\n",
              "    </tr>\n",
              "    <tr>\n",
              "      <th>11628</th>\n",
              "      <td>509.8</td>\n",
              "      <td>0.0</td>\n",
              "      <td>420.2</td>\n",
              "      <td>711.3</td>\n",
              "      <td>640.0</td>\n",
              "    </tr>\n",
              "    <tr>\n",
              "      <th>13301</th>\n",
              "      <td>433.1</td>\n",
              "      <td>0.0</td>\n",
              "      <td>332.9</td>\n",
              "      <td>421.4</td>\n",
              "      <td>0.0</td>\n",
              "    </tr>\n",
              "    <tr>\n",
              "      <th>14929</th>\n",
              "      <td>468.7</td>\n",
              "      <td>0.0</td>\n",
              "      <td>394.1</td>\n",
              "      <td>480.5</td>\n",
              "      <td>0.0</td>\n",
              "    </tr>\n",
              "    <tr>\n",
              "      <th>15378</th>\n",
              "      <td>381.2</td>\n",
              "      <td>0.0</td>\n",
              "      <td>462.4</td>\n",
              "      <td>432.9</td>\n",
              "      <td>0.0</td>\n",
              "    </tr>\n",
              "    <tr>\n",
              "      <th>17500</th>\n",
              "      <td>536.3</td>\n",
              "      <td>0.0</td>\n",
              "      <td>0.0</td>\n",
              "      <td>510.2</td>\n",
              "      <td>520.0</td>\n",
              "    </tr>\n",
              "    <tr>\n",
              "      <th>18699</th>\n",
              "      <td>453.1</td>\n",
              "      <td>0.0</td>\n",
              "      <td>0.0</td>\n",
              "      <td>604.2</td>\n",
              "      <td>520.0</td>\n",
              "    </tr>\n",
              "    <tr>\n",
              "      <th>19143</th>\n",
              "      <td>481.8</td>\n",
              "      <td>0.0</td>\n",
              "      <td>522.0</td>\n",
              "      <td>620.7</td>\n",
              "      <td>480.0</td>\n",
              "    </tr>\n",
              "    <tr>\n",
              "      <th>19902</th>\n",
              "      <td>513.4</td>\n",
              "      <td>0.0</td>\n",
              "      <td>0.0</td>\n",
              "      <td>491.2</td>\n",
              "      <td>340.0</td>\n",
              "    </tr>\n",
              "  </tbody>\n",
              "</table>\n",
              "</div>"
            ],
            "text/plain": [
              "       NU_NOTA_CN  NU_NOTA_CH  NU_NOTA_LC  NU_NOTA_MT  NU_NOTA_REDACAO\n",
              "53          495.5         0.0         0.0       687.1            400.0\n",
              "1049        415.5         0.0       351.4       586.1            420.0\n",
              "4607        437.2         0.0       401.3       520.3            380.0\n",
              "5540        533.2         0.0       587.1       460.9            680.0\n",
              "6921        451.8         0.0       385.6       448.7            360.0\n",
              "8582        474.9         0.0       586.9       576.5            540.0\n",
              "8659        515.9         0.0       360.9       481.6            460.0\n",
              "10177       439.6         0.0       462.1       470.9            480.0\n",
              "10759       423.1         0.0         0.0       472.2            360.0\n",
              "10783       420.0         0.0       505.3       401.1            540.0\n",
              "11088       454.4         0.0         0.0       625.6              0.0\n",
              "11628       509.8         0.0       420.2       711.3            640.0\n",
              "13301       433.1         0.0       332.9       421.4              0.0\n",
              "14929       468.7         0.0       394.1       480.5              0.0\n",
              "15378       381.2         0.0       462.4       432.9              0.0\n",
              "17500       536.3         0.0         0.0       510.2            520.0\n",
              "18699       453.1         0.0         0.0       604.2            520.0\n",
              "19143       481.8         0.0       522.0       620.7            480.0\n",
              "19902       513.4         0.0         0.0       491.2            340.0"
            ]
          },
          "metadata": {
            "tags": []
          },
          "execution_count": 174
        }
      ]
    },
    {
      "cell_type": "code",
      "metadata": {
        "id": "jlIw2oASOwsI"
      },
      "source": [
        "# #modelo SVR https://scikit-learn.org/stable/modules/generated/sklearn.svm.SVR.html\n",
        "# clf = SVR(C=1.0, epsilon=0.2)\n",
        "# clf.fit(X_treino, Y_treino)\n",
        "# y_= clf.predict(X_teste)\n"
      ],
      "execution_count": null,
      "outputs": []
    },
    {
      "cell_type": "code",
      "metadata": {
        "id": "eVWv_J5yTIj4"
      },
      "source": [
        "#predicao = mean_squared_error(Y_teste, y_)\n",
        "#predicao"
      ],
      "execution_count": null,
      "outputs": []
    },
    {
      "cell_type": "code",
      "metadata": {
        "id": "Iu556LEpffyv"
      },
      "source": [
        "#modelo SVR https://scikit-learn.org/stable/modules/generated/sklearn.svm.SVR.html\n",
        "# clf = SVR(C=1.0, epsilon=0.1, degree=2)\n",
        "# clf.fit(X_treino, Y_treino)\n",
        "# y_= clf.predict(X_teste)"
      ],
      "execution_count": null,
      "outputs": []
    },
    {
      "cell_type": "code",
      "metadata": {
        "id": "EQjzi5NUgmc8",
        "colab": {
          "base_uri": "https://localhost:8080/",
          "height": 35
        },
        "outputId": "84ca5ef3-375f-45dc-e49d-37c273c83967"
      },
      "source": [
        "predicao = mean_squared_error(Y_teste, y_)\n",
        "predicao"
      ],
      "execution_count": null,
      "outputs": [
        {
          "output_type": "execute_result",
          "data": {
            "text/plain": [
              "2177.3839304103562"
            ]
          },
          "metadata": {
            "tags": []
          },
          "execution_count": 177
        }
      ]
    },
    {
      "cell_type": "code",
      "metadata": {
        "id": "uSMGrvf7vPKt"
      },
      "source": [
        "# plt.figure(figsize=(10,10))\n",
        "# plt.scatter(x=Y_teste, y=y_)\n",
        "# plt.scatter(x=Y_teste, y=Y_teste)"
      ],
      "execution_count": null,
      "outputs": []
    },
    {
      "cell_type": "code",
      "metadata": {
        "id": "ajRkW5W6khGS"
      },
      "source": [
        "#tentando entender as notas zero\n",
        "df = pd.DataFrame(Y_teste)"
      ],
      "execution_count": null,
      "outputs": []
    },
    {
      "cell_type": "code",
      "metadata": {
        "id": "rc7xX1XGkzKg"
      },
      "source": [
        "df.columns = ['valor']"
      ],
      "execution_count": null,
      "outputs": []
    },
    {
      "cell_type": "code",
      "metadata": {
        "id": "_JpntHLvlhre",
        "colab": {
          "base_uri": "https://localhost:8080/",
          "height": 35
        },
        "outputId": "36aef53d-17c0-4df9-ad42-86403d832d4a"
      },
      "source": [
        "df.query('valor==0').index"
      ],
      "execution_count": null,
      "outputs": [
        {
          "output_type": "execute_result",
          "data": {
            "text/plain": [
              "Int64Index([53, 2284, 10759, 11088, 17500, 18699, 19902], dtype='int64')"
            ]
          },
          "metadata": {
            "tags": []
          },
          "execution_count": 181
        }
      ]
    },
    {
      "cell_type": "code",
      "metadata": {
        "id": "wP3UIwFqlirN"
      },
      "source": [
        "df2 = pd.DataFrame(y_).query('index ==[53, 2284, 10759, 11088, 17500, 18699, 19902]')"
      ],
      "execution_count": null,
      "outputs": []
    },
    {
      "cell_type": "code",
      "metadata": {
        "id": "QkKCDO6IltcY",
        "colab": {
          "base_uri": "https://localhost:8080/",
          "height": 269
        },
        "outputId": "17bfeb4e-dc62-456e-9e8c-2105b0baa7dc"
      },
      "source": [
        "dados_teste.query('index ==[53, 2284, 10759, 11088, 17500, 18699, 19902]')"
      ],
      "execution_count": null,
      "outputs": [
        {
          "output_type": "execute_result",
          "data": {
            "text/html": [
              "<div>\n",
              "<style scoped>\n",
              "    .dataframe tbody tr th:only-of-type {\n",
              "        vertical-align: middle;\n",
              "    }\n",
              "\n",
              "    .dataframe tbody tr th {\n",
              "        vertical-align: top;\n",
              "    }\n",
              "\n",
              "    .dataframe thead th {\n",
              "        text-align: right;\n",
              "    }\n",
              "</style>\n",
              "<table border=\"1\" class=\"dataframe\">\n",
              "  <thead>\n",
              "    <tr style=\"text-align: right;\">\n",
              "      <th></th>\n",
              "      <th>NU_NOTA_CN</th>\n",
              "      <th>NU_NOTA_CH</th>\n",
              "      <th>NU_NOTA_LC</th>\n",
              "      <th>NU_NOTA_MT</th>\n",
              "      <th>NU_NOTA_REDACAO</th>\n",
              "    </tr>\n",
              "  </thead>\n",
              "  <tbody>\n",
              "    <tr>\n",
              "      <th>53</th>\n",
              "      <td>495.5</td>\n",
              "      <td>0.0</td>\n",
              "      <td>0.0</td>\n",
              "      <td>687.1</td>\n",
              "      <td>400.0</td>\n",
              "    </tr>\n",
              "    <tr>\n",
              "      <th>2284</th>\n",
              "      <td>530.8</td>\n",
              "      <td>476.5</td>\n",
              "      <td>0.0</td>\n",
              "      <td>535.6</td>\n",
              "      <td>900.0</td>\n",
              "    </tr>\n",
              "    <tr>\n",
              "      <th>10759</th>\n",
              "      <td>423.1</td>\n",
              "      <td>0.0</td>\n",
              "      <td>0.0</td>\n",
              "      <td>472.2</td>\n",
              "      <td>360.0</td>\n",
              "    </tr>\n",
              "    <tr>\n",
              "      <th>11088</th>\n",
              "      <td>454.4</td>\n",
              "      <td>0.0</td>\n",
              "      <td>0.0</td>\n",
              "      <td>625.6</td>\n",
              "      <td>0.0</td>\n",
              "    </tr>\n",
              "    <tr>\n",
              "      <th>17500</th>\n",
              "      <td>536.3</td>\n",
              "      <td>0.0</td>\n",
              "      <td>0.0</td>\n",
              "      <td>510.2</td>\n",
              "      <td>520.0</td>\n",
              "    </tr>\n",
              "    <tr>\n",
              "      <th>18699</th>\n",
              "      <td>453.1</td>\n",
              "      <td>0.0</td>\n",
              "      <td>0.0</td>\n",
              "      <td>604.2</td>\n",
              "      <td>520.0</td>\n",
              "    </tr>\n",
              "    <tr>\n",
              "      <th>19902</th>\n",
              "      <td>513.4</td>\n",
              "      <td>0.0</td>\n",
              "      <td>0.0</td>\n",
              "      <td>491.2</td>\n",
              "      <td>340.0</td>\n",
              "    </tr>\n",
              "  </tbody>\n",
              "</table>\n",
              "</div>"
            ],
            "text/plain": [
              "       NU_NOTA_CN  NU_NOTA_CH  NU_NOTA_LC  NU_NOTA_MT  NU_NOTA_REDACAO\n",
              "53          495.5         0.0         0.0       687.1            400.0\n",
              "2284        530.8       476.5         0.0       535.6            900.0\n",
              "10759       423.1         0.0         0.0       472.2            360.0\n",
              "11088       454.4         0.0         0.0       625.6              0.0\n",
              "17500       536.3         0.0         0.0       510.2            520.0\n",
              "18699       453.1         0.0         0.0       604.2            520.0\n",
              "19902       513.4         0.0         0.0       491.2            340.0"
            ]
          },
          "metadata": {
            "tags": []
          },
          "execution_count": 183
        }
      ]
    },
    {
      "cell_type": "code",
      "metadata": {
        "id": "cynJUI4Wl1Ac",
        "colab": {
          "base_uri": "https://localhost:8080/",
          "height": 645
        },
        "outputId": "38f376a7-9b32-4aa4-80a8-d8b35fde0dc1"
      },
      "source": [
        "dados_teste.query('NU_NOTA_CH ==0').sort_values(by='NU_NOTA_LC')"
      ],
      "execution_count": null,
      "outputs": [
        {
          "output_type": "execute_result",
          "data": {
            "text/html": [
              "<div>\n",
              "<style scoped>\n",
              "    .dataframe tbody tr th:only-of-type {\n",
              "        vertical-align: middle;\n",
              "    }\n",
              "\n",
              "    .dataframe tbody tr th {\n",
              "        vertical-align: top;\n",
              "    }\n",
              "\n",
              "    .dataframe thead th {\n",
              "        text-align: right;\n",
              "    }\n",
              "</style>\n",
              "<table border=\"1\" class=\"dataframe\">\n",
              "  <thead>\n",
              "    <tr style=\"text-align: right;\">\n",
              "      <th></th>\n",
              "      <th>NU_NOTA_CN</th>\n",
              "      <th>NU_NOTA_CH</th>\n",
              "      <th>NU_NOTA_LC</th>\n",
              "      <th>NU_NOTA_MT</th>\n",
              "      <th>NU_NOTA_REDACAO</th>\n",
              "    </tr>\n",
              "  </thead>\n",
              "  <tbody>\n",
              "    <tr>\n",
              "      <th>53</th>\n",
              "      <td>495.5</td>\n",
              "      <td>0.0</td>\n",
              "      <td>0.0</td>\n",
              "      <td>687.1</td>\n",
              "      <td>400.0</td>\n",
              "    </tr>\n",
              "    <tr>\n",
              "      <th>18699</th>\n",
              "      <td>453.1</td>\n",
              "      <td>0.0</td>\n",
              "      <td>0.0</td>\n",
              "      <td>604.2</td>\n",
              "      <td>520.0</td>\n",
              "    </tr>\n",
              "    <tr>\n",
              "      <th>17500</th>\n",
              "      <td>536.3</td>\n",
              "      <td>0.0</td>\n",
              "      <td>0.0</td>\n",
              "      <td>510.2</td>\n",
              "      <td>520.0</td>\n",
              "    </tr>\n",
              "    <tr>\n",
              "      <th>11088</th>\n",
              "      <td>454.4</td>\n",
              "      <td>0.0</td>\n",
              "      <td>0.0</td>\n",
              "      <td>625.6</td>\n",
              "      <td>0.0</td>\n",
              "    </tr>\n",
              "    <tr>\n",
              "      <th>10759</th>\n",
              "      <td>423.1</td>\n",
              "      <td>0.0</td>\n",
              "      <td>0.0</td>\n",
              "      <td>472.2</td>\n",
              "      <td>360.0</td>\n",
              "    </tr>\n",
              "    <tr>\n",
              "      <th>19902</th>\n",
              "      <td>513.4</td>\n",
              "      <td>0.0</td>\n",
              "      <td>0.0</td>\n",
              "      <td>491.2</td>\n",
              "      <td>340.0</td>\n",
              "    </tr>\n",
              "    <tr>\n",
              "      <th>13301</th>\n",
              "      <td>433.1</td>\n",
              "      <td>0.0</td>\n",
              "      <td>332.9</td>\n",
              "      <td>421.4</td>\n",
              "      <td>0.0</td>\n",
              "    </tr>\n",
              "    <tr>\n",
              "      <th>1049</th>\n",
              "      <td>415.5</td>\n",
              "      <td>0.0</td>\n",
              "      <td>351.4</td>\n",
              "      <td>586.1</td>\n",
              "      <td>420.0</td>\n",
              "    </tr>\n",
              "    <tr>\n",
              "      <th>8659</th>\n",
              "      <td>515.9</td>\n",
              "      <td>0.0</td>\n",
              "      <td>360.9</td>\n",
              "      <td>481.6</td>\n",
              "      <td>460.0</td>\n",
              "    </tr>\n",
              "    <tr>\n",
              "      <th>6921</th>\n",
              "      <td>451.8</td>\n",
              "      <td>0.0</td>\n",
              "      <td>385.6</td>\n",
              "      <td>448.7</td>\n",
              "      <td>360.0</td>\n",
              "    </tr>\n",
              "    <tr>\n",
              "      <th>14929</th>\n",
              "      <td>468.7</td>\n",
              "      <td>0.0</td>\n",
              "      <td>394.1</td>\n",
              "      <td>480.5</td>\n",
              "      <td>0.0</td>\n",
              "    </tr>\n",
              "    <tr>\n",
              "      <th>4607</th>\n",
              "      <td>437.2</td>\n",
              "      <td>0.0</td>\n",
              "      <td>401.3</td>\n",
              "      <td>520.3</td>\n",
              "      <td>380.0</td>\n",
              "    </tr>\n",
              "    <tr>\n",
              "      <th>11628</th>\n",
              "      <td>509.8</td>\n",
              "      <td>0.0</td>\n",
              "      <td>420.2</td>\n",
              "      <td>711.3</td>\n",
              "      <td>640.0</td>\n",
              "    </tr>\n",
              "    <tr>\n",
              "      <th>10177</th>\n",
              "      <td>439.6</td>\n",
              "      <td>0.0</td>\n",
              "      <td>462.1</td>\n",
              "      <td>470.9</td>\n",
              "      <td>480.0</td>\n",
              "    </tr>\n",
              "    <tr>\n",
              "      <th>15378</th>\n",
              "      <td>381.2</td>\n",
              "      <td>0.0</td>\n",
              "      <td>462.4</td>\n",
              "      <td>432.9</td>\n",
              "      <td>0.0</td>\n",
              "    </tr>\n",
              "    <tr>\n",
              "      <th>10783</th>\n",
              "      <td>420.0</td>\n",
              "      <td>0.0</td>\n",
              "      <td>505.3</td>\n",
              "      <td>401.1</td>\n",
              "      <td>540.0</td>\n",
              "    </tr>\n",
              "    <tr>\n",
              "      <th>19143</th>\n",
              "      <td>481.8</td>\n",
              "      <td>0.0</td>\n",
              "      <td>522.0</td>\n",
              "      <td>620.7</td>\n",
              "      <td>480.0</td>\n",
              "    </tr>\n",
              "    <tr>\n",
              "      <th>8582</th>\n",
              "      <td>474.9</td>\n",
              "      <td>0.0</td>\n",
              "      <td>586.9</td>\n",
              "      <td>576.5</td>\n",
              "      <td>540.0</td>\n",
              "    </tr>\n",
              "    <tr>\n",
              "      <th>5540</th>\n",
              "      <td>533.2</td>\n",
              "      <td>0.0</td>\n",
              "      <td>587.1</td>\n",
              "      <td>460.9</td>\n",
              "      <td>680.0</td>\n",
              "    </tr>\n",
              "  </tbody>\n",
              "</table>\n",
              "</div>"
            ],
            "text/plain": [
              "       NU_NOTA_CN  NU_NOTA_CH  NU_NOTA_LC  NU_NOTA_MT  NU_NOTA_REDACAO\n",
              "53          495.5         0.0         0.0       687.1            400.0\n",
              "18699       453.1         0.0         0.0       604.2            520.0\n",
              "17500       536.3         0.0         0.0       510.2            520.0\n",
              "11088       454.4         0.0         0.0       625.6              0.0\n",
              "10759       423.1         0.0         0.0       472.2            360.0\n",
              "19902       513.4         0.0         0.0       491.2            340.0\n",
              "13301       433.1         0.0       332.9       421.4              0.0\n",
              "1049        415.5         0.0       351.4       586.1            420.0\n",
              "8659        515.9         0.0       360.9       481.6            460.0\n",
              "6921        451.8         0.0       385.6       448.7            360.0\n",
              "14929       468.7         0.0       394.1       480.5              0.0\n",
              "4607        437.2         0.0       401.3       520.3            380.0\n",
              "11628       509.8         0.0       420.2       711.3            640.0\n",
              "10177       439.6         0.0       462.1       470.9            480.0\n",
              "15378       381.2         0.0       462.4       432.9              0.0\n",
              "10783       420.0         0.0       505.3       401.1            540.0\n",
              "19143       481.8         0.0       522.0       620.7            480.0\n",
              "8582        474.9         0.0       586.9       576.5            540.0\n",
              "5540        533.2         0.0       587.1       460.9            680.0"
            ]
          },
          "metadata": {
            "tags": []
          },
          "execution_count": 184
        }
      ]
    },
    {
      "cell_type": "code",
      "metadata": {
        "id": "eEp_hlczmbYz",
        "colab": {
          "base_uri": "https://localhost:8080/",
          "height": 35
        },
        "outputId": "375dd019-a0c9-4258-b3a1-be70ffce85c9"
      },
      "source": [
        "#quanto seria o MSR se removesse os as notas zeros\n",
        "mean_squared_error(pd.DataFrame(y_).query('index not in [53, 2284, 10759, 11088, 17500, 18699, 19902]').to_numpy(), pd.DataFrame(Y_teste).query('index not in [53, 2284, 10759, 11088, 17500, 18699, 19902]').to_numpy())"
      ],
      "execution_count": null,
      "outputs": [
        {
          "output_type": "execute_result",
          "data": {
            "text/plain": [
              "2138.69848701146"
            ]
          },
          "metadata": {
            "tags": []
          },
          "execution_count": 185
        }
      ]
    },
    {
      "cell_type": "code",
      "metadata": {
        "id": "KOPHQy5loWS7"
      },
      "source": [
        "#from sklearn.linear_model import Lasso\n",
        "# Train model with default alpha=1\n",
        "#lasso = Lasso(alpha=1).fit(X_treino, Y_treino)"
      ],
      "execution_count": null,
      "outputs": []
    },
    {
      "cell_type": "code",
      "metadata": {
        "id": "6E9ocLE6qLHr"
      },
      "source": [
        "# y_= lasso.predict(X_teste)\n",
        "# predicao = mean_squared_error(Y_teste, y_)\n",
        "# print(f\"Minha avaliação nos dados de teste foi de {predicao}\")\n",
        "# plt.figure(figsize=(10,10))\n",
        "# plt.scatter(x=Y_teste, y=y_)\n",
        "# plt.scatter(x=Y_teste, y=Y_teste)\n",
        "# plt.show()"
      ],
      "execution_count": null,
      "outputs": []
    },
    {
      "cell_type": "code",
      "metadata": {
        "id": "bT2MDhF2tyGg"
      },
      "source": [
        "# from sklearn.linear_model import Ridge\n",
        "# # Train model with default alpha=1\n",
        "# ridge = Ridge(alpha=1).fit(X_treino, Y_treino)"
      ],
      "execution_count": null,
      "outputs": []
    },
    {
      "cell_type": "code",
      "metadata": {
        "id": "C7wDfo0AuAGw"
      },
      "source": [
        "# y_= ridge.predict(X_teste)\n",
        "# predicao = mean_squared_error(Y_teste, y_)\n",
        "# print(f\"Minha avaliação nos dados de teste foi de {predicao}\")\n",
        "# plt.figure(figsize=(10,10))\n",
        "# plt.scatter(x=Y_teste, y=y_)\n",
        "# plt.scatter(x=Y_teste, y=Y_teste)\n",
        "# plt.show()"
      ],
      "execution_count": null,
      "outputs": []
    },
    {
      "cell_type": "code",
      "metadata": {
        "id": "ow_eV9y6uDIf"
      },
      "source": [
        "# # find optimal alpha with grid search\n",
        "# from sklearn.model_selection import GridSearchCV\n",
        "# alpha = [0.001, 0.01, 0.1, 1, 10, 100, 1000]\n",
        "# param_grid = dict(alpha=alpha)\n",
        "# grid = GridSearchCV(estimator=lasso, param_grid=param_grid, scoring='r2', verbose=1, n_jobs=-1)\n",
        "# grid_result = grid.fit(X_treino, Y_treino)\n",
        "# print('Best Score: ', grid_result.best_score_)\n",
        "# print('Best Params: ', grid_result.best_params_)"
      ],
      "execution_count": null,
      "outputs": []
    },
    {
      "cell_type": "code",
      "metadata": {
        "id": "JMHLFQSOubNE"
      },
      "source": [
        "\n",
        "# # Train model with default alpha=0.001\n",
        "# ridge = Ridge(alpha=0.001).fit(X_treino, Y_treino)"
      ],
      "execution_count": null,
      "outputs": []
    },
    {
      "cell_type": "code",
      "metadata": {
        "id": "Tiqb1BdMu3KU"
      },
      "source": [
        "# y_= ridge.predict(X_teste)\n",
        "# predicao = mean_squared_error(Y_teste, y_)\n",
        "# print(f\"Minha avaliação nos dados de teste foi de {predicao}\")\n",
        "# plt.figure(figsize=(10,10))\n",
        "# plt.scatter(x=Y_teste, y=y_)\n",
        "# plt.scatter(x=Y_teste, y=Y_teste)\n",
        "# plt.show()"
      ],
      "execution_count": null,
      "outputs": []
    },
    {
      "cell_type": "code",
      "metadata": {
        "id": "BRhti1CQu7HB"
      },
      "source": [
        "# from sklearn.linear_model import ElasticNet\n",
        "# # Train model with default alpha=1 and l1_ratio=0.5\n",
        "# elastic_net = ElasticNet(alpha=1, l1_ratio=0.5).fit(X_treino, Y_treino)"
      ],
      "execution_count": null,
      "outputs": []
    },
    {
      "cell_type": "code",
      "metadata": {
        "id": "IwgdCjJEvJ_z"
      },
      "source": [
        "# y_= elastic_net.predict(X_teste)\n",
        "# predicao = mean_squared_error(Y_teste, y_)\n",
        "# print(f\"Minha avaliação nos dados de teste foi de {predicao}\")\n",
        "# plt.figure(figsize=(10,10))\n",
        "# plt.scatter(x=Y_teste, y=y_)\n",
        "# plt.scatter(x=Y_teste, y=Y_teste)\n",
        "# plt.show()"
      ],
      "execution_count": null,
      "outputs": []
    },
    {
      "cell_type": "code",
      "metadata": {
        "id": "8gS_zWdZvNu8"
      },
      "source": [
        "# clf = SVR(C=1.0, epsilon=0.1, degree=1)\n",
        "# clf.fit(X_treino, Y_treino)\n",
        "# y_= clf.predict(X_teste)"
      ],
      "execution_count": null,
      "outputs": []
    },
    {
      "cell_type": "code",
      "metadata": {
        "id": "ENNl0BOXvaxU"
      },
      "source": [
        "# predicao = mean_squared_error(Y_teste, y_)\n",
        "# print(f\"Minha avaliação nos dados de teste foi de {predicao}\")\n",
        "# plt.figure(figsize=(10,10))\n",
        "# plt.scatter(x=Y_teste, y=y_)\n",
        "# plt.scatter(x=Y_teste, y=Y_teste)\n",
        "# plt.show()"
      ],
      "execution_count": null,
      "outputs": []
    },
    {
      "cell_type": "code",
      "metadata": {
        "id": "Y7YFFy_r62MN"
      },
      "source": [
        "# from sklearn import linear_model\n",
        "\n",
        "# clf = linear_model.SGDRegressor(max_iter=200000,eta0=0.0000000001)\n",
        "# clf.fit(X_treino, Y_treino)\n",
        "# y_ = clf.predict(X_teste)\n",
        "# predicao = mean_squared_error(Y_teste, y_)\n",
        "# print(f\"Minha avaliação nos dados de teste foi de {predicao}\")"
      ],
      "execution_count": null,
      "outputs": []
    },
    {
      "cell_type": "code",
      "metadata": {
        "id": "KOnA1MPeXtJH"
      },
      "source": [
        "plt.figure(figsize=(10,10))\n",
        "plt.scatter(x=Y_teste, y=df)\n",
        "plt.scatter(x=Y_teste, y=Y_teste)"
      ],
      "execution_count": null,
      "outputs": []
    },
    {
      "cell_type": "code",
      "metadata": {
        "id": "UtPAnhuvYY6Y"
      },
      "source": [
        "df = np.where(y_ <= 350, 380, y_)"
      ],
      "execution_count": null,
      "outputs": []
    },
    {
      "cell_type": "code",
      "metadata": {
        "id": "1psP_hdYa-pl"
      },
      "source": [
        "predicao = mean_squared_error(Y_teste, df)\n",
        "print(f\"Minha avaliação nos dados de teste foi de {predicao}\")"
      ],
      "execution_count": null,
      "outputs": []
    },
    {
      "cell_type": "code",
      "metadata": {
        "id": "iLHITunvbz6V"
      },
      "source": [
        "df.min()"
      ],
      "execution_count": null,
      "outputs": []
    },
    {
      "cell_type": "markdown",
      "metadata": {
        "id": "KlOTTihn-0UY"
      },
      "source": [
        "#Auto ML"
      ]
    },
    {
      "cell_type": "code",
      "metadata": {
        "id": "kXi9bfFJb3yZ",
        "colab": {
          "base_uri": "https://localhost:8080/",
          "height": 376
        },
        "outputId": "6cfba4c1-b8c0-4c3a-d727-6544d7385239"
      },
      "source": [
        "#automl\n",
        "!pip install h2o"
      ],
      "execution_count": null,
      "outputs": [
        {
          "output_type": "stream",
          "text": [
            "Collecting h2o\n",
            "\u001b[?25l  Downloading https://files.pythonhosted.org/packages/7d/f3/0da4c917ae0d32295c69280dba7ea6f01127866b5cab95f235d3da80b2d2/h2o-3.30.0.2.tar.gz (129.6MB)\n",
            "\u001b[K     |████████████████████████████████| 129.6MB 80kB/s \n",
            "\u001b[?25hRequirement already satisfied: requests in /usr/local/lib/python3.6/dist-packages (from h2o) (2.23.0)\n",
            "Requirement already satisfied: tabulate in /usr/local/lib/python3.6/dist-packages (from h2o) (0.8.7)\n",
            "Requirement already satisfied: future in /usr/local/lib/python3.6/dist-packages (from h2o) (0.16.0)\n",
            "Collecting colorama>=0.3.8\n",
            "  Downloading https://files.pythonhosted.org/packages/c9/dc/45cdef1b4d119eb96316b3117e6d5708a08029992b2fee2c143c7a0a5cc5/colorama-0.4.3-py2.py3-none-any.whl\n",
            "Requirement already satisfied: chardet<4,>=3.0.2 in /usr/local/lib/python3.6/dist-packages (from requests->h2o) (3.0.4)\n",
            "Requirement already satisfied: certifi>=2017.4.17 in /usr/local/lib/python3.6/dist-packages (from requests->h2o) (2020.4.5.1)\n",
            "Requirement already satisfied: idna<3,>=2.5 in /usr/local/lib/python3.6/dist-packages (from requests->h2o) (2.9)\n",
            "Requirement already satisfied: urllib3!=1.25.0,!=1.25.1,<1.26,>=1.21.1 in /usr/local/lib/python3.6/dist-packages (from requests->h2o) (1.24.3)\n",
            "Building wheels for collected packages: h2o\n",
            "  Building wheel for h2o (setup.py) ... \u001b[?25l\u001b[?25hdone\n",
            "  Created wheel for h2o: filename=h2o-3.30.0.2-py2.py3-none-any.whl size=129672980 sha256=a6967327e88b0cf3c0ebb0543cd4a05ae0add812e30a86241b3578f45dd775ea\n",
            "  Stored in directory: /root/.cache/pip/wheels/35/f0/d4/2090fb81ef10fd3dedffd1386a8a4d79b882e8e978fbee4e14\n",
            "Successfully built h2o\n",
            "Installing collected packages: colorama, h2o\n",
            "Successfully installed colorama-0.4.3 h2o-3.30.0.2\n"
          ],
          "name": "stdout"
        }
      ]
    },
    {
      "cell_type": "code",
      "metadata": {
        "id": "bzmME3IbdcHH",
        "colab": {
          "base_uri": "https://localhost:8080/",
          "height": 559
        },
        "outputId": "0b768bb3-ccc3-4202-ddc6-9c92dc2b95fa"
      },
      "source": [
        "import h2o\n",
        "from h2o.automl import H2OAutoML\n",
        "\n",
        "h2o.init()\n"
      ],
      "execution_count": null,
      "outputs": [
        {
          "output_type": "stream",
          "text": [
            "Checking whether there is an H2O instance running at http://localhost:54321 ..... not found.\n",
            "Attempting to start a local H2O server...\n",
            "  Java Version: openjdk version \"11.0.6\" 2020-01-14; OpenJDK Runtime Environment (build 11.0.6+10-post-Ubuntu-1ubuntu118.04.1); OpenJDK 64-Bit Server VM (build 11.0.6+10-post-Ubuntu-1ubuntu118.04.1, mixed mode, sharing)\n",
            "  Starting server from /usr/local/lib/python3.6/dist-packages/h2o/backend/bin/h2o.jar\n",
            "  Ice root: /tmp/tmp528z18ng\n",
            "  JVM stdout: /tmp/tmp528z18ng/h2o_unknownUser_started_from_python.out\n",
            "  JVM stderr: /tmp/tmp528z18ng/h2o_unknownUser_started_from_python.err\n",
            "  Server is running at http://127.0.0.1:54321\n",
            "Connecting to H2O server at http://127.0.0.1:54321 ... successful.\n"
          ],
          "name": "stdout"
        },
        {
          "output_type": "display_data",
          "data": {
            "text/html": [
              "<div style=\"overflow:auto\"><table style=\"width:50%\"><tr><td>H2O_cluster_uptime:</td>\n",
              "<td>02 secs</td></tr>\n",
              "<tr><td>H2O_cluster_timezone:</td>\n",
              "<td>Etc/UTC</td></tr>\n",
              "<tr><td>H2O_data_parsing_timezone:</td>\n",
              "<td>UTC</td></tr>\n",
              "<tr><td>H2O_cluster_version:</td>\n",
              "<td>3.30.0.2</td></tr>\n",
              "<tr><td>H2O_cluster_version_age:</td>\n",
              "<td>2 days </td></tr>\n",
              "<tr><td>H2O_cluster_name:</td>\n",
              "<td>H2O_from_python_unknownUser_pngrci</td></tr>\n",
              "<tr><td>H2O_cluster_total_nodes:</td>\n",
              "<td>1</td></tr>\n",
              "<tr><td>H2O_cluster_free_memory:</td>\n",
              "<td>3.180 Gb</td></tr>\n",
              "<tr><td>H2O_cluster_total_cores:</td>\n",
              "<td>2</td></tr>\n",
              "<tr><td>H2O_cluster_allowed_cores:</td>\n",
              "<td>2</td></tr>\n",
              "<tr><td>H2O_cluster_status:</td>\n",
              "<td>accepting new members, healthy</td></tr>\n",
              "<tr><td>H2O_connection_url:</td>\n",
              "<td>http://127.0.0.1:54321</td></tr>\n",
              "<tr><td>H2O_connection_proxy:</td>\n",
              "<td>{\"http\": null, \"https\": null}</td></tr>\n",
              "<tr><td>H2O_internal_security:</td>\n",
              "<td>False</td></tr>\n",
              "<tr><td>H2O_API_Extensions:</td>\n",
              "<td>Amazon S3, XGBoost, Algos, AutoML, Core V3, TargetEncoder, Core V4</td></tr>\n",
              "<tr><td>Python_version:</td>\n",
              "<td>3.6.9 final</td></tr></table></div>"
            ],
            "text/plain": [
              "--------------------------  ------------------------------------------------------------------\n",
              "H2O_cluster_uptime:         02 secs\n",
              "H2O_cluster_timezone:       Etc/UTC\n",
              "H2O_data_parsing_timezone:  UTC\n",
              "H2O_cluster_version:        3.30.0.2\n",
              "H2O_cluster_version_age:    2 days\n",
              "H2O_cluster_name:           H2O_from_python_unknownUser_pngrci\n",
              "H2O_cluster_total_nodes:    1\n",
              "H2O_cluster_free_memory:    3.180 Gb\n",
              "H2O_cluster_total_cores:    2\n",
              "H2O_cluster_allowed_cores:  2\n",
              "H2O_cluster_status:         accepting new members, healthy\n",
              "H2O_connection_url:         http://127.0.0.1:54321\n",
              "H2O_connection_proxy:       {\"http\": null, \"https\": null}\n",
              "H2O_internal_security:      False\n",
              "H2O_API_Extensions:         Amazon S3, XGBoost, Algos, AutoML, Core V3, TargetEncoder, Core V4\n",
              "Python_version:             3.6.9 final\n",
              "--------------------------  ------------------------------------------------------------------"
            ]
          },
          "metadata": {
            "tags": []
          }
        }
      ]
    },
    {
      "cell_type": "code",
      "metadata": {
        "id": "SFQhRSmdg5fG"
      },
      "source": [
        "# # Run AutoML for 20 base models (limited to 1 hour max runtime by default)\n",
        "# aml = H2OAutoML(max_models=20, seed=1)\n",
        "# aml.train(x=coluna_features, y=coluna_label, training_frame=dados_treino)\n",
        "\n",
        "# # View the AutoML Leaderboard\n",
        "# lb = aml.leaderboard\n",
        "#lb.head(rows=lb.nrows)  # Print all rows instead of default (10 rows)"
      ],
      "execution_count": null,
      "outputs": []
    },
    {
      "cell_type": "code",
      "metadata": {
        "id": "jdVE858stVqd",
        "colab": {
          "base_uri": "https://localhost:8080/",
          "height": 71
        },
        "outputId": "3f803b0d-d5d2-4cb7-f7f6-e52c3983f8e7"
      },
      "source": [
        "dados_treino = h2o.import_file(\"https://github.com/tgcsantos/quaretenadados/blob/master/DADOS_TREINO.csv?raw=true\")\n",
        "dados_teste = h2o.import_file(\"https://github.com/tgcsantos/quaretenadados/raw/master/DADOS_TESTE.csv\")\n",
        "dados_desafioqt = h2o.import_file(\"https://github.com/tgcsantos/quaretenadados/raw/master/DESAFIOQT.csv\")\n",
        "\n",
        "X_treino = dados_treino[coluna_features]\n",
        "Y_treino = dados_treino[coluna_label]\n",
        "X_teste = dados_teste[coluna_features]\n",
        "Y_teste = dados_teste[coluna_label]\n"
      ],
      "execution_count": null,
      "outputs": [
        {
          "output_type": "stream",
          "text": [
            "Parse progress: |█████████████████████████████████████████████████████████| 100%\n",
            "Parse progress: |█████████████████████████████████████████████████████████| 100%\n",
            "Parse progress: |█████████████████████████████████████████████████████████| 100%\n"
          ],
          "name": "stdout"
        }
      ]
    },
    {
      "cell_type": "code",
      "metadata": {
        "id": "btbsBKdCvLjs"
      },
      "source": [
        "yh2o = Y_teste.as_data_frame().to_numpy()\n",
        "xh2o = X_teste.as_data_frame().to_numpy()"
      ],
      "execution_count": null,
      "outputs": []
    },
    {
      "cell_type": "code",
      "metadata": {
        "id": "0xda3dUh336v",
        "colab": {
          "base_uri": "https://localhost:8080/",
          "height": 35
        },
        "outputId": "a23fcc72-9b77-4e1c-9f9e-90ec84348428"
      },
      "source": [
        "automl = H2OAutoML(seed=42)\n",
        "automl.train(x=coluna_features, y=coluna_label, training_frame=dados_treino)\n"
      ],
      "execution_count": null,
      "outputs": [
        {
          "output_type": "stream",
          "text": [
            "AutoML progress: |████████████████████████████████████████████████████████| 100%\n"
          ],
          "name": "stdout"
        }
      ]
    },
    {
      "cell_type": "code",
      "metadata": {
        "id": "6GnefeJhtmDk",
        "colab": {
          "base_uri": "https://localhost:8080/",
          "height": 254
        },
        "outputId": "0d920ec7-0b5e-4ae8-e403-304d96ec2800"
      },
      "source": [
        "automl.leaderboard"
      ],
      "execution_count": null,
      "outputs": [
        {
          "output_type": "display_data",
          "data": {
            "text/html": [
              "<table>\n",
              "<thead>\n",
              "<tr><th>model_id                                           </th><th style=\"text-align: right;\">  mean_residual_deviance</th><th style=\"text-align: right;\">   rmse</th><th style=\"text-align: right;\">    mse</th><th style=\"text-align: right;\">    mae</th><th style=\"text-align: right;\">   rmsle</th></tr>\n",
              "</thead>\n",
              "<tbody>\n",
              "<tr><td>StackedEnsemble_BestOfFamily_AutoML_20200501_021830</td><td style=\"text-align: right;\">                 2016.21</td><td style=\"text-align: right;\">44.9022</td><td style=\"text-align: right;\">2016.21</td><td style=\"text-align: right;\">34.6531</td><td style=\"text-align: right;\">0.142773</td></tr>\n",
              "<tr><td>StackedEnsemble_AllModels_AutoML_20200501_021830   </td><td style=\"text-align: right;\">                 2016.22</td><td style=\"text-align: right;\">44.9024</td><td style=\"text-align: right;\">2016.22</td><td style=\"text-align: right;\">34.6532</td><td style=\"text-align: right;\">0.142771</td></tr>\n",
              "<tr><td>GBM_1_AutoML_20200501_021830                       </td><td style=\"text-align: right;\">                 2016.49</td><td style=\"text-align: right;\">44.9053</td><td style=\"text-align: right;\">2016.49</td><td style=\"text-align: right;\">34.6564</td><td style=\"text-align: right;\">0.142737</td></tr>\n",
              "<tr><td>GBM_2_AutoML_20200501_021830                       </td><td style=\"text-align: right;\">                 2017.7 </td><td style=\"text-align: right;\">44.9188</td><td style=\"text-align: right;\">2017.7 </td><td style=\"text-align: right;\">34.6624</td><td style=\"text-align: right;\">0.143223</td></tr>\n",
              "<tr><td>XGBoost_grid__1_AutoML_20200501_021830_model_6     </td><td style=\"text-align: right;\">                 2021.12</td><td style=\"text-align: right;\">44.9569</td><td style=\"text-align: right;\">2021.12</td><td style=\"text-align: right;\">34.6989</td><td style=\"text-align: right;\">0.143802</td></tr>\n",
              "<tr><td>GBM_3_AutoML_20200501_021830                       </td><td style=\"text-align: right;\">                 2022.41</td><td style=\"text-align: right;\">44.9712</td><td style=\"text-align: right;\">2022.41</td><td style=\"text-align: right;\">34.7003</td><td style=\"text-align: right;\">0.142941</td></tr>\n",
              "<tr><td>XGBoost_grid__1_AutoML_20200501_021830_model_15    </td><td style=\"text-align: right;\">                 2025.9 </td><td style=\"text-align: right;\">45.01  </td><td style=\"text-align: right;\">2025.9 </td><td style=\"text-align: right;\">34.7292</td><td style=\"text-align: right;\">0.14306 </td></tr>\n",
              "<tr><td>XGBoost_3_AutoML_20200501_021830                   </td><td style=\"text-align: right;\">                 2027.98</td><td style=\"text-align: right;\">45.0331</td><td style=\"text-align: right;\">2027.98</td><td style=\"text-align: right;\">34.742 </td><td style=\"text-align: right;\">0.142895</td></tr>\n",
              "<tr><td>GBM_grid__1_AutoML_20200501_021830_model_12        </td><td style=\"text-align: right;\">                 2028.92</td><td style=\"text-align: right;\">45.0435</td><td style=\"text-align: right;\">2028.92</td><td style=\"text-align: right;\">34.8145</td><td style=\"text-align: right;\">0.144526</td></tr>\n",
              "<tr><td>XGBoost_grid__1_AutoML_20200501_021830_model_7     </td><td style=\"text-align: right;\">                 2030.57</td><td style=\"text-align: right;\">45.0619</td><td style=\"text-align: right;\">2030.57</td><td style=\"text-align: right;\">34.7448</td><td style=\"text-align: right;\">0.142124</td></tr>\n",
              "</tbody>\n",
              "</table>"
            ]
          },
          "metadata": {
            "tags": []
          }
        },
        {
          "output_type": "execute_result",
          "data": {
            "text/plain": [
              ""
            ]
          },
          "metadata": {
            "tags": []
          },
          "execution_count": 9
        }
      ]
    },
    {
      "cell_type": "code",
      "metadata": {
        "id": "LdXDORfI5Vcm",
        "colab": {
          "base_uri": "https://localhost:8080/",
          "height": 35
        },
        "outputId": "19310565-ac85-4175-b637-eb9b81b36b31"
      },
      "source": [
        "pred2 = automl.leader.predict(dados_teste)"
      ],
      "execution_count": null,
      "outputs": [
        {
          "output_type": "stream",
          "text": [
            "stackedensemble prediction progress: |████████████████████████████████████| 100%\n"
          ],
          "name": "stdout"
        }
      ]
    },
    {
      "cell_type": "code",
      "metadata": {
        "id": "ffvNDe5Pzunt",
        "colab": {
          "base_uri": "https://localhost:8080/",
          "height": 265
        },
        "outputId": "59cc3ac3-dd7f-4096-c4cf-551290659536"
      },
      "source": [
        "pred2 = pred2.as_data_frame().to_numpy()\n",
        "plt.scatter(yh2o,pred2)\n",
        "plt.scatter(yh2o,yh2o)\n",
        "plt.show()"
      ],
      "execution_count": null,
      "outputs": [
        {
          "output_type": "display_data",
          "data": {
            "image/png": "[encoded data removed]",
            "text/plain": [
              "<Figure size 432x288 with 1 Axes>"
            ]
          },
          "metadata": {
            "tags": [],
            "needs_background": "light"
          }
        }
      ]
    },
    {
      "cell_type": "code",
      "metadata": {
        "id": "AaEgiA2SflZx",
        "colab": {
          "base_uri": "https://localhost:8080/",
          "height": 35
        },
        "outputId": "96a2ab54-c2fd-4ea5-c1f4-a084b48e1e68"
      },
      "source": [
        "mean_squared_error(yh2o, pred2)"
      ],
      "execution_count": null,
      "outputs": [
        {
          "output_type": "execute_result",
          "data": {
            "text/plain": [
              "2052.6518574748407"
            ]
          },
          "metadata": {
            "tags": []
          },
          "execution_count": 16
        }
      ]
    },
    {
      "cell_type": "code",
      "metadata": {
        "id": "BLH20qgHw5em"
      },
      "source": [
        "pred3 = np.where(pred2 <= 300, 300, pred2)"
      ],
      "execution_count": null,
      "outputs": []
    },
    {
      "cell_type": "code",
      "metadata": {
        "id": "nzG-2JMlys1P",
        "colab": {
          "base_uri": "https://localhost:8080/",
          "height": 35
        },
        "outputId": "820213e5-354c-454a-ba71-29040788c6de"
      },
      "source": [
        "mean_squared_error(yh2o, pred3)"
      ],
      "execution_count": null,
      "outputs": [
        {
          "output_type": "execute_result",
          "data": {
            "text/plain": [
              "2046.235434164444"
            ]
          },
          "metadata": {
            "tags": []
          },
          "execution_count": 18
        }
      ]
    },
    {
      "cell_type": "code",
      "metadata": {
        "id": "AYzjexV1HeWL",
        "colab": {
          "base_uri": "https://localhost:8080/",
          "height": 53
        },
        "outputId": "9bb6503d-c87d-4070-c573-8d3878f4a0b3"
      },
      "source": [
        "dados_desafioqt = h2o.import_file(\"https://github.com/tgcsantos/quaretenadados/raw/master/DESAFIOQT.csv\")\n",
        "predict_final = automl.leader.predict(dados_desafioqt)"
      ],
      "execution_count": null,
      "outputs": [
        {
          "output_type": "stream",
          "text": [
            "Parse progress: |█████████████████████████████████████████████████████████| 100%\n",
            "stackedensemble prediction progress: |████████████████████████████████████| 100%\n"
          ],
          "name": "stdout"
        }
      ]
    },
    {
      "cell_type": "code",
      "metadata": {
        "id": "rvT2msFR7VKA"
      },
      "source": [
        "predict_final_array = predict_final.as_data_frame().to_numpy()"
      ],
      "execution_count": null,
      "outputs": []
    },
    {
      "cell_type": "code",
      "metadata": {
        "id": "e2W0y9Y17odo",
        "colab": {
          "base_uri": "https://localhost:8080/",
          "height": 266
        },
        "outputId": "ecc44a38-62b4-47ae-b9b6-15eee3bc0f79"
      },
      "source": [
        "plt.scatter(predict_final_array,predict_final_array)\n",
        "plt.show()"
      ],
      "execution_count": null,
      "outputs": [
        {
          "output_type": "display_data",
          "data": {
            "image/png": "[encoded data removed]",
            "text/plain": [
              "<Figure size 432x288 with 1 Axes>"
            ]
          },
          "metadata": {
            "tags": [],
            "needs_background": "light"
          }
        }
      ]
    },
    {
      "cell_type": "code",
      "metadata": {
        "id": "e0Q3enn182n9"
      },
      "source": [
        "predict_final_ajustado = np.where(predict_final_array <= 300, 300, predict_final_array)"
      ],
      "execution_count": null,
      "outputs": []
    },
    {
      "cell_type": "code",
      "metadata": {
        "id": "W_n6NgR-9rVE"
      },
      "source": [
        "#atribuir ao MODELO o nome do seu melhor modelo\n",
        "from google.colab import files\n",
        "\n",
        "dados_desafioqt = pd.read_csv(URI_DESAFIOQT)\n",
        "desafio_df = pd.DataFrame(dados_desafioqt.ID)\n",
        "desafio_df[coluna_label] = predict_final_ajustado\n",
        "\n",
        "#NÃO TROCAR O NOME DO ARQUIVO DE SAÍDA (PREDICAO_DESAFIO)\n",
        "desafio_df.to_csv('PREDICAO_DESAFIOQT.csv', index=False) \n",
        "files.download('PREDICAO_DESAFIOQT.csv')"
      ],
      "execution_count": null,
      "outputs": []
    },
    {
      "cell_type": "code",
      "metadata": {
        "id": "UIp6I2Rd-FPP"
      },
      "source": [
        ""
      ],
      "execution_count": null,
      "outputs": []
    }
  ]
}